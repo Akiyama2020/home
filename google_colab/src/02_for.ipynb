{
  "nbformat": 4,
  "nbformat_minor": 0,
  "metadata": {
    "colab": {
      "name": "02_for.ipynb",
      "provenance": [],
      "collapsed_sections": [],
      "authorship_tag": "ABX9TyNg4xSf7+ZGZoMPBffYO7ZV",
      "include_colab_link": true
    },
    "kernelspec": {
      "name": "python3",
      "display_name": "Python 3"
    }
  },
  "cells": [
    {
      "cell_type": "markdown",
      "metadata": {
        "id": "view-in-github",
        "colab_type": "text"
      },
      "source": [
        "<a href=\"https://colab.research.google.com/github/Akiyama2020/home/blob/gh-pages/google_colab/src/02_for.ipynb\" target=\"_parent\"><img src=\"https://colab.research.google.com/assets/colab-badge.svg\" alt=\"Open In Colab\"/></a>"
      ]
    },
    {
      "cell_type": "code",
      "metadata": {
        "id": "EtUymVHrkg3e",
        "colab_type": "code",
        "colab": {
          "base_uri": "https://localhost:8080/",
          "height": 204
        },
        "outputId": "2b3b2ef9-05a4-41d2-efb0-b277f082d553"
      },
      "source": [
        "print('--- sample ---')\n",
        "for i in range(10):\n",
        "  print(i)"
      ],
      "execution_count": 7,
      "outputs": [
        {
          "output_type": "stream",
          "text": [
            "--- sample ---\n",
            "0\n",
            "1\n",
            "2\n",
            "3\n",
            "4\n",
            "5\n",
            "6\n",
            "7\n",
            "8\n",
            "9\n"
          ],
          "name": "stdout"
        }
      ]
    },
    {
      "cell_type": "code",
      "metadata": {
        "id": "e9SzQmWAjs-W",
        "colab_type": "code",
        "colab": {}
      },
      "source": [
        "def sample1():\n",
        "    print('--- sample ---')\n",
        "    for i in range(3):\n",
        "        print(i, 'hello')\n",
        "\n",
        "def sample2():\n",
        "    print('--- sample ---')\n",
        "    fruits=['apple', 'orange', 'pear']\n",
        "    for show in fruits:\n",
        "        print(show)\n",
        "\n",
        "def sample3():\n",
        "    print('--- sample ---')\n",
        "    fruits=['apple', 'orange', 'pear']\n",
        "    for show in fruits:\n",
        "        i=0\n",
        "        print(fruits[i])\n",
        "        i += 1\n",
        "\n",
        "def sample4():\n",
        "    print('--- sample ---')\n",
        "    for i in range(0, 30, 7):\n",
        "        print(i)"
      ],
      "execution_count": 0,
      "outputs": []
    },
    {
      "cell_type": "code",
      "metadata": {
        "id": "sWOREWlJj1yZ",
        "colab_type": "code",
        "colab": {
          "base_uri": "https://localhost:8080/",
          "height": 85
        },
        "outputId": "6839b8e0-3c49-48c3-e3a0-410684dbc8da"
      },
      "source": [
        "sample1()"
      ],
      "execution_count": 2,
      "outputs": [
        {
          "output_type": "stream",
          "text": [
            "--- sample ---\n",
            "0 hello\n",
            "1 hello\n",
            "2 hello\n"
          ],
          "name": "stdout"
        }
      ]
    },
    {
      "cell_type": "code",
      "metadata": {
        "id": "zN5jvJsdj5JF",
        "colab_type": "code",
        "colab": {
          "base_uri": "https://localhost:8080/",
          "height": 85
        },
        "outputId": "28c57ab8-899f-4c44-a5f5-c3ca073c9b89"
      },
      "source": [
        "sample2()"
      ],
      "execution_count": 3,
      "outputs": [
        {
          "output_type": "stream",
          "text": [
            "--- sample ---\n",
            "apple\n",
            "orange\n",
            "pear\n"
          ],
          "name": "stdout"
        }
      ]
    },
    {
      "cell_type": "code",
      "metadata": {
        "id": "NjtjjheLj9n0",
        "colab_type": "code",
        "colab": {
          "base_uri": "https://localhost:8080/",
          "height": 85
        },
        "outputId": "8a1f242f-fd11-44a1-f507-1decfbb33fd3"
      },
      "source": [
        "sample3()"
      ],
      "execution_count": 4,
      "outputs": [
        {
          "output_type": "stream",
          "text": [
            "--- sample ---\n",
            "apple\n",
            "apple\n",
            "apple\n"
          ],
          "name": "stdout"
        }
      ]
    },
    {
      "cell_type": "code",
      "metadata": {
        "id": "54v2OLhQj_sa",
        "colab_type": "code",
        "colab": {
          "base_uri": "https://localhost:8080/",
          "height": 119
        },
        "outputId": "908e2089-ae3a-4f97-aab8-78cd8ab733cf"
      },
      "source": [
        "sample4()"
      ],
      "execution_count": 6,
      "outputs": [
        {
          "output_type": "stream",
          "text": [
            "--- sample ---\n",
            "0\n",
            "7\n",
            "14\n",
            "21\n",
            "28\n"
          ],
          "name": "stdout"
        }
      ]
    }
  ]
}